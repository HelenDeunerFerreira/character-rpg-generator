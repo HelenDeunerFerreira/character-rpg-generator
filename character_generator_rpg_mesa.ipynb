{
  "nbformat": 4,
  "nbformat_minor": 0,
  "metadata": {
    "colab": {
      "provenance": []
    },
    "kernelspec": {
      "name": "python3",
      "display_name": "Python 3"
    },
    "language_info": {
      "name": "python"
    }
  },
  "cells": [
    {
      "cell_type": "markdown",
      "source": [
        "Instalando o pacote GenerativeAI do Google"
      ],
      "metadata": {
        "id": "baGa6sGrWuD9"
      }
    },
    {
      "cell_type": "code",
      "execution_count": null,
      "metadata": {
        "id": "pyimH9uq3QOO"
      },
      "outputs": [],
      "source": [
        "!pip install -q -U google-generativeai"
      ]
    },
    {
      "cell_type": "markdown",
      "source": [
        "Importando bibliotecas do GenerativeAI, Colab e IPython e setando a chave do Google API"
      ],
      "metadata": {
        "id": "BlwDr54dW6Cc"
      }
    },
    {
      "cell_type": "code",
      "source": [
        "import google.generativeai as genai\n",
        "import textwrap\n",
        "from google.colab import userdata\n",
        "from IPython.display import display, Markdown\n",
        "\n",
        "GOOGLE_API_KEY=userdata.get('GOOGLE_API_KEY')\n",
        "genai.configure(api_key=GOOGLE_API_KEY)"
      ],
      "metadata": {
        "id": "UQ9XpAoc3fWc"
      },
      "execution_count": null,
      "outputs": []
    },
    {
      "cell_type": "markdown",
      "source": [
        "Configurando o candidato e a temperatura"
      ],
      "metadata": {
        "id": "Q9HQ0oOEXRL9"
      }
    },
    {
      "cell_type": "code",
      "source": [
        "generation_config = {\n",
        "    \"candidate_count\": 1,\n",
        "    \"temperature\": 0.5\n",
        "}"
      ],
      "metadata": {
        "id": "-gy3tNWV9Qad"
      },
      "execution_count": 8,
      "outputs": []
    },
    {
      "cell_type": "markdown",
      "source": [
        "Configurando as determinações de segurança"
      ],
      "metadata": {
        "id": "OxH41BVAXYAE"
      }
    },
    {
      "cell_type": "code",
      "source": [
        "safety_settings = {\n",
        "    \"HARASSMENT\": \"BLOCK_ONLY_HIGH\",\n",
        "    \"HATE\": \"BLOCK_ONLY_HIGH\",\n",
        "    \"SEXUAL\": \"BLOCK_ONLY_HIGH\",\n",
        "    \"DANGEROUS\": \"BLOCK_ONLY_HIGH\",\n",
        "}"
      ],
      "metadata": {
        "id": "fa9J2Io-SpCY"
      },
      "execution_count": 9,
      "outputs": []
    },
    {
      "cell_type": "markdown",
      "source": [
        "Colocando o modelo Gemini-Pro e repassando as configurações para uso"
      ],
      "metadata": {
        "id": "2wnb0LyFXlyC"
      }
    },
    {
      "cell_type": "code",
      "source": [
        "model = genai.GenerativeModel(model_name='gemini-pro', generation_config=generation_config, safety_settings=safety_settings)"
      ],
      "metadata": {
        "id": "vtDJE1XVTNPm"
      },
      "execution_count": 10,
      "outputs": []
    },
    {
      "cell_type": "markdown",
      "source": [
        "Variável do chat que utiliza o modelo e o histórico do chat"
      ],
      "metadata": {
        "id": "iAXefOLDXt7V"
      }
    },
    {
      "cell_type": "code",
      "source": [
        "chat = model.start_chat(history=[])"
      ],
      "metadata": {
        "id": "klVhEnURT9B9"
      },
      "execution_count": 11,
      "outputs": []
    },
    {
      "cell_type": "markdown",
      "source": [
        "Código do chatbot em si, em um sistema que é configurado para fazer a ficha e história de origem dos personagens"
      ],
      "metadata": {
        "id": "gCEZ4HvBX0RS"
      }
    },
    {
      "cell_type": "code",
      "source": [
        "sistema = input('Bem-vindo, aventureiro! Você está precisando de um personagem/NPC de qual sistema de RPG? (Digite FIM para encerrar): ')\n",
        "\n",
        "while sistema != \"FIM\" and sistema != \"fim\" and sistema != \"Fim\":\n",
        "  detalhe = input('Tem algum detalhe da história ou aparência desse personagem que seria importante? ')\n",
        "  response = chat.send_message(f\"Escreva uma história de origem e uma ficha de RPG para um personagem fictício considerando o sistema de RPG {sistema} e considerando que {detalhe}\")\n",
        "  print(response.text)\n",
        "  sistema = input('Bem-vindo, aventureiro! Você está precisando de um personagem/NPC de qual sistema de RPG? (Digite FIM para encerrar): ')"
      ],
      "metadata": {
        "colab": {
          "base_uri": "https://localhost:8080/",
          "height": 1000
        },
        "id": "X8rrjDuWXSqb",
        "outputId": "303615a9-e054-467b-f341-dc86c42bc3cd"
      },
      "execution_count": 12,
      "outputs": [
        {
          "name": "stdout",
          "output_type": "stream",
          "text": [
            "Bem-vindo, aventureiro! Você está precisando de um personagem/NPC de qual sistema de RPG? (Digite FIM para encerrar): d&d\n",
            "Tem algum detalhe da história ou aparência desse personagem que seria importante? ela é uma fada\n",
            "**História de Origem**\n",
            "\n",
            "Nas profundezas da Floresta Encantada, onde a luz do sol filtrava-se através das copas das árvores, nasceu uma fada chamada Celeste. Sua mãe, uma ninfa da água, e seu pai, um espírito do ar, deram a ela o dom da beleza etérea e o poder de controlar a natureza.\n",
            "\n",
            "Desde tenra idade, Celeste mostrou uma afinidade com as criaturas da floresta. Ela podia conversar com os animais, controlar o vento e curar ferimentos com um simples toque. Mas sua vida pacífica foi interrompida quando uma horda de orcs invadiu a floresta, destruindo tudo em seu caminho.\n",
            "\n",
            "Assombrada pela devastação, Celeste jurou vingança contra os invasores. Ela se juntou a um grupo de aventureiros que lutavam contra as forças das trevas e usou seus poderes para curar os feridos e proteger os inocentes.\n",
            "\n",
            "**Ficha de RPG (Dungeons & Dragons)**\n",
            "\n",
            "**Nome:** Celeste\n",
            "\n",
            "**Raça:** Fada\n",
            "\n",
            "**Classe:** Druida\n",
            "\n",
            "**Alinhamento:** Bondoso\n",
            "\n",
            "**Atributos:**\n",
            "\n",
            "* Força: 8\n",
            "* Destreza: 16\n",
            "* Constituição: 10\n",
            "* Inteligência: 14\n",
            "* Sabedoria: 16\n",
            "* Carisma: 12\n",
            "\n",
            "**Perícias:**\n",
            "\n",
            "* Arcanismo\n",
            "* Cura\n",
            "* Enganação\n",
            "* Natureza\n",
            "* Percepção\n",
            "\n",
            "**Idiomas:**\n",
            "\n",
            "* Comum\n",
            "* Élfico\n",
            "* Silvestre\n",
            "\n",
            "**Equipamento:**\n",
            "\n",
            "* Cajado de madeira\n",
            "* Bolsa de componentes de cura\n",
            "* Adaga\n",
            "\n",
            "**Habilidades de Classe:**\n",
            "\n",
            "* **Forma Selvagem:** Transforma-se em uma besta\n",
            "* **Convocar Elementais:** Convoca elementais da natureza\n",
            "* **Cura das Feridas:** Cura ferimentos\n",
            "* **Língua dos Animais:** Comunica-se com animais\n",
            "\n",
            "**Traços Raciais:**\n",
            "\n",
            "* **Tamanho Pequeno:** Vantagem em testes de Furtividade e Esquiva\n",
            "* **Asas:** Velocidade de voo de 30 pés\n",
            "* **Sensibilidade à Luz do Sol:** Desvantagem em testes de resistência contra luz solar intensa\n",
            "* **Resistência a Encantamento:** Vantagem em testes de resistência contra efeitos de encantamento\n",
            "Bem-vindo, aventureiro! Você está precisando de um personagem/NPC de qual sistema de RPG? (Digite FIM para encerrar): fim\n"
          ]
        }
      ]
    },
    {
      "cell_type": "markdown",
      "source": [
        "Aqui conseguimos deixar nosso histórico de conversas do chat mais bonito e organizado, o que facilita a visualização"
      ],
      "metadata": {
        "id": "N1C5lkloYArf"
      }
    },
    {
      "cell_type": "code",
      "source": [
        "def to_markdown(text):\n",
        "  text = text.replace('•', '  *')\n",
        "  return Markdown(textwrap.indent(text, '> ', predicate=lambda _: True))\n",
        "\n",
        "for message in chat.history:\n",
        "  display(to_markdown(f'**{message.role}**: {message.parts[0].text}'))\n",
        "  print('-------------------------------------------')"
      ],
      "metadata": {
        "id": "lLNGxSS6aR0p",
        "colab": {
          "base_uri": "https://localhost:8080/",
          "height": 1000
        },
        "outputId": "f117b02e-2f3f-4f31-c2b3-48d1d22b2674"
      },
      "execution_count": 13,
      "outputs": [
        {
          "output_type": "display_data",
          "data": {
            "text/plain": [
              "<IPython.core.display.Markdown object>"
            ],
            "text/markdown": "> **user**: Escreva uma história de origem e uma ficha de RPG para um personagem fictício considerando o sistema de RPG d&d e considerando que ela é uma fada"
          },
          "metadata": {}
        },
        {
          "output_type": "stream",
          "name": "stdout",
          "text": [
            "-------------------------------------------\n"
          ]
        },
        {
          "output_type": "display_data",
          "data": {
            "text/plain": [
              "<IPython.core.display.Markdown object>"
            ],
            "text/markdown": "> **model**: **História de Origem**\n> \n> Nas profundezas da Floresta Encantada, onde a luz do sol filtrava-se através das copas das árvores, nasceu uma fada chamada Celeste. Sua mãe, uma ninfa da água, e seu pai, um espírito do ar, deram a ela o dom da beleza etérea e o poder de controlar a natureza.\n> \n> Desde tenra idade, Celeste mostrou uma afinidade com as criaturas da floresta. Ela podia conversar com os animais, controlar o vento e curar ferimentos com um simples toque. Mas sua vida pacífica foi interrompida quando uma horda de orcs invadiu a floresta, destruindo tudo em seu caminho.\n> \n> Assombrada pela devastação, Celeste jurou vingança contra os invasores. Ela se juntou a um grupo de aventureiros que lutavam contra as forças das trevas e usou seus poderes para curar os feridos e proteger os inocentes.\n> \n> **Ficha de RPG (Dungeons & Dragons)**\n> \n> **Nome:** Celeste\n> \n> **Raça:** Fada\n> \n> **Classe:** Druida\n> \n> **Alinhamento:** Bondoso\n> \n> **Atributos:**\n> \n> * Força: 8\n> * Destreza: 16\n> * Constituição: 10\n> * Inteligência: 14\n> * Sabedoria: 16\n> * Carisma: 12\n> \n> **Perícias:**\n> \n> * Arcanismo\n> * Cura\n> * Enganação\n> * Natureza\n> * Percepção\n> \n> **Idiomas:**\n> \n> * Comum\n> * Élfico\n> * Silvestre\n> \n> **Equipamento:**\n> \n> * Cajado de madeira\n> * Bolsa de componentes de cura\n> * Adaga\n> \n> **Habilidades de Classe:**\n> \n> * **Forma Selvagem:** Transforma-se em uma besta\n> * **Convocar Elementais:** Convoca elementais da natureza\n> * **Cura das Feridas:** Cura ferimentos\n> * **Língua dos Animais:** Comunica-se com animais\n> \n> **Traços Raciais:**\n> \n> * **Tamanho Pequeno:** Vantagem em testes de Furtividade e Esquiva\n> * **Asas:** Velocidade de voo de 30 pés\n> * **Sensibilidade à Luz do Sol:** Desvantagem em testes de resistência contra luz solar intensa\n> * **Resistência a Encantamento:** Vantagem em testes de resistência contra efeitos de encantamento"
          },
          "metadata": {}
        },
        {
          "output_type": "stream",
          "name": "stdout",
          "text": [
            "-------------------------------------------\n"
          ]
        }
      ]
    }
  ]
}